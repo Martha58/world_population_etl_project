{
 "cells": [
  {
   "cell_type": "code",
   "execution_count": 1,
   "id": "f5645936",
   "metadata": {},
   "outputs": [],
   "source": [
    "from bs4 import BeautifulSoup\n",
    "import requests\n",
    "import pandas as pd\n",
    "import sqlite3"
   ]
  },
  {
   "cell_type": "code",
   "execution_count": 2,
   "id": "cf89f872",
   "metadata": {},
   "outputs": [],
   "source": [
    "url = 'https://www.worldometers.info/world-population/population-by-country/#google_vignette'\n",
    "page = requests.get(url)\n",
    "soup = BeautifulSoup(page.text, 'html')\n",
    "#print(soup)"
   ]
  },
  {
   "cell_type": "code",
   "execution_count": 3,
   "id": "b87dcd8c",
   "metadata": {},
   "outputs": [],
   "source": [
    "table = soup.find('table')\n",
    "#print(table)"
   ]
  },
  {
   "cell_type": "code",
   "execution_count": 4,
   "id": "b127ee1d",
   "metadata": {},
   "outputs": [],
   "source": [
    "data = soup.find_all('th')\n",
    "#print(data)"
   ]
  },
  {
   "cell_type": "code",
   "execution_count": 5,
   "id": "03f2c8d1",
   "metadata": {},
   "outputs": [],
   "source": [
    "datas = [heading.text.strip() for heading in data]\n",
    "#print(datas)"
   ]
  },
  {
   "cell_type": "code",
   "execution_count": 6,
   "id": "a37bda85",
   "metadata": {},
   "outputs": [],
   "source": [
    "df = pd.DataFrame(columns = datas)\n",
    "#df"
   ]
  },
  {
   "cell_type": "code",
   "execution_count": 10,
   "id": "6b99ac9f",
   "metadata": {},
   "outputs": [],
   "source": [
    "population = table.find_all('tr')[1:234]"
   ]
  },
  {
   "cell_type": "code",
   "execution_count": 13,
   "id": "292bda21",
   "metadata": {},
   "outputs": [],
   "source": [
    "for x in population:\n",
    "    info = x.find_all('td')\n",
    "    information = [td.text.strip() for td in info]\n",
    "    # print(information)\n",
    "    length = len(df)\n",
    "    df.loc[length] = information"
   ]
  },
  {
   "cell_type": "code",
   "execution_count": 143,
   "id": "5b3c9dae",
   "metadata": {},
   "outputs": [],
   "source": [
    "df.to_csv(r'C:\\Users\\martha\\OneDrive\\Python\\world_population.csv', index=False)"
   ]
  },
  {
   "cell_type": "code",
   "execution_count": null,
   "id": "e4033929",
   "metadata": {},
   "outputs": [],
   "source": []
  },
  {
   "cell_type": "code",
   "execution_count": null,
   "id": "f9c32178",
   "metadata": {},
   "outputs": [],
   "source": []
  },
  {
   "cell_type": "code",
   "execution_count": null,
   "id": "69929529",
   "metadata": {},
   "outputs": [],
   "source": []
  },
  {
   "cell_type": "code",
   "execution_count": null,
   "id": "a6c28cb6",
   "metadata": {},
   "outputs": [],
   "source": []
  },
  {
   "cell_type": "code",
   "execution_count": null,
   "id": "4fa2baee",
   "metadata": {},
   "outputs": [],
   "source": []
  }
 ],
 "metadata": {
  "kernelspec": {
   "display_name": "Python 3 (ipykernel)",
   "language": "python",
   "name": "python3"
  },
  "language_info": {
   "codemirror_mode": {
    "name": "ipython",
    "version": 3
   },
   "file_extension": ".py",
   "mimetype": "text/x-python",
   "name": "python",
   "nbconvert_exporter": "python",
   "pygments_lexer": "ipython3",
   "version": "3.11.7"
  }
 },
 "nbformat": 4,
 "nbformat_minor": 5
}
